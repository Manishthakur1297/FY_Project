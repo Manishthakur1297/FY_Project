{
 "cells": [
  {
   "cell_type": "code",
   "execution_count": 2,
   "metadata": {},
   "outputs": [
    {
     "name": "stdout",
     "output_type": "stream",
     "text": [
      "data shape is:  (101766, 50)\n",
      "data head is:     encounter_id  patient_nbr             race  gender      age weight  \\\n",
      "0       2278392      8222157        Caucasian  Female   [0-10)      ?   \n",
      "1        149190     55629189        Caucasian  Female  [10-20)      ?   \n",
      "2         64410     86047875  AfricanAmerican  Female  [20-30)      ?   \n",
      "3        500364     82442376        Caucasian    Male  [30-40)      ?   \n",
      "4         16680     42519267        Caucasian    Male  [40-50)      ?   \n",
      "\n",
      "   admission_type_id  discharge_disposition_id  admission_source_id  \\\n",
      "0                  6                        25                    1   \n",
      "1                  1                         1                    7   \n",
      "2                  1                         1                    7   \n",
      "3                  1                         1                    7   \n",
      "4                  1                         1                    7   \n",
      "\n",
      "   time_in_hospital    ...     citoglipton insulin  glyburide-metformin  \\\n",
      "0                 1    ...              No      No                   No   \n",
      "1                 3    ...              No      Up                   No   \n",
      "2                 2    ...              No      No                   No   \n",
      "3                 2    ...              No      Up                   No   \n",
      "4                 1    ...              No  Steady                   No   \n",
      "\n",
      "   glipizide-metformin  glimepiride-pioglitazone  metformin-rosiglitazone  \\\n",
      "0                   No                        No                       No   \n",
      "1                   No                        No                       No   \n",
      "2                   No                        No                       No   \n",
      "3                   No                        No                       No   \n",
      "4                   No                        No                       No   \n",
      "\n",
      "   metformin-pioglitazone  change diabetesMed readmitted  \n",
      "0                      No      No          No         NO  \n",
      "1                      No      Ch         Yes        >30  \n",
      "2                      No      No         Yes         NO  \n",
      "3                      No      Ch         Yes         NO  \n",
      "4                      No      Ch         Yes         NO  \n",
      "\n",
      "[5 rows x 50 columns]\n",
      "<class 'pandas.core.frame.DataFrame'>\n",
      "RangeIndex: 101766 entries, 0 to 101765\n",
      "Data columns (total 50 columns):\n",
      "encounter_id                101766 non-null int64\n",
      "patient_nbr                 101766 non-null int64\n",
      "race                        101766 non-null object\n",
      "gender                      101766 non-null object\n",
      "age                         101766 non-null object\n",
      "weight                      101766 non-null object\n",
      "admission_type_id           101766 non-null int64\n",
      "discharge_disposition_id    101766 non-null int64\n",
      "admission_source_id         101766 non-null int64\n",
      "time_in_hospital            101766 non-null int64\n",
      "payer_code                  101766 non-null object\n",
      "medical_specialty           101766 non-null object\n",
      "num_lab_procedures          101766 non-null int64\n",
      "num_procedures              101766 non-null int64\n",
      "num_medications             101766 non-null int64\n",
      "number_outpatient           101766 non-null int64\n",
      "number_emergency            101766 non-null int64\n",
      "number_inpatient            101766 non-null int64\n",
      "diag_1                      101766 non-null object\n",
      "diag_2                      101766 non-null object\n",
      "diag_3                      101766 non-null object\n",
      "number_diagnoses            101766 non-null int64\n",
      "max_glu_serum               101766 non-null object\n",
      "A1Cresult                   101766 non-null object\n",
      "metformin                   101766 non-null object\n",
      "repaglinide                 101766 non-null object\n",
      "nateglinide                 101766 non-null object\n",
      "chlorpropamide              101766 non-null object\n",
      "glimepiride                 101766 non-null object\n",
      "acetohexamide               101766 non-null object\n",
      "glipizide                   101766 non-null object\n",
      "glyburide                   101766 non-null object\n",
      "tolbutamide                 101766 non-null object\n",
      "pioglitazone                101766 non-null object\n",
      "rosiglitazone               101766 non-null object\n",
      "acarbose                    101766 non-null object\n",
      "miglitol                    101766 non-null object\n",
      "troglitazone                101766 non-null object\n",
      "tolazamide                  101766 non-null object\n",
      "examide                     101766 non-null object\n",
      "citoglipton                 101766 non-null object\n",
      "insulin                     101766 non-null object\n",
      "glyburide-metformin         101766 non-null object\n",
      "glipizide-metformin         101766 non-null object\n",
      "glimepiride-pioglitazone    101766 non-null object\n",
      "metformin-rosiglitazone     101766 non-null object\n",
      "metformin-pioglitazone      101766 non-null object\n",
      "change                      101766 non-null object\n",
      "diabetesMed                 101766 non-null object\n",
      "readmitted                  101766 non-null object\n",
      "dtypes: int64(13), object(37)\n",
      "memory usage: 38.8+ MB\n",
      "data information is:  None\n"
     ]
    },
    {
     "data": {
      "text/plain": [
       "<Figure size 640x480 with 1 Axes>"
      ]
     },
     "metadata": {},
     "output_type": "display_data"
    },
    {
     "name": "stdout",
     "output_type": "stream",
     "text": [
      "weight feature NA rate is:  0.9685847925633315\n",
      "medical_speciality NA rate is:  0.49082208203132677\n",
      "race NA is:  0.022335554114340742\n",
      "diag1 NA is:  0.0002063557573256294\n",
      "diag2 NA is:  0.0035178743391702533\n",
      "diag3 NA is:  0.013983059174970029\n",
      "gender NA is:  2.947939390366134e-05\n"
     ]
    },
    {
     "data": {
      "text/plain": [
       "<Figure size 640x480 with 1 Axes>"
      ]
     },
     "metadata": {},
     "output_type": "display_data"
    },
    {
     "data": {
      "text/plain": [
       "<Figure size 640x480 with 1 Axes>"
      ]
     },
     "metadata": {},
     "output_type": "display_data"
    },
    {
     "name": "stderr",
     "output_type": "stream",
     "text": [
      "C:\\Users\\acer\\Anaconda3\\lib\\site-packages\\sklearn\\cross_validation.py:41: DeprecationWarning: This module was deprecated in version 0.18 in favor of the model_selection module into which all the refactored classes and functions are moved. Also note that the interface of the new CV iterators are different from that of this module. This module will be removed in 0.20.\n",
      "  \"This module will be removed in 0.20.\", DeprecationWarning)\n"
     ]
    },
    {
     "name": "stdout",
     "output_type": "stream",
     "text": [
      "Top 10 important features are: \n",
      "num_lab_procedures\n",
      "num_medications\n",
      "time_in_hospital\n",
      "number_diagnoses\n",
      "number_inpatient\n",
      "num_procedures\n",
      "number_outpatient\n",
      "diag_3\n",
      "number_emergency\n",
      "Female\n"
     ]
    },
    {
     "data": {
      "text/plain": [
       "<Figure size 640x480 with 1 Axes>"
      ]
     },
     "metadata": {},
     "output_type": "display_data"
    },
    {
     "data": {
      "text/plain": [
       "<Figure size 1200x1000 with 1 Axes>"
      ]
     },
     "metadata": {},
     "output_type": "display_data"
    },
    {
     "name": "stdout",
     "output_type": "stream",
     "text": [
      "[1354773.2308265003]\n",
      "[1354773.2308265003, 1222776.2404714571]\n",
      "[1354773.2308265003, 1222776.2404714571, 1145111.4034982554]\n",
      "[1354773.2308265003, 1222776.2404714571, 1145111.4034982554, 1085813.5291374389]\n",
      "[1354773.2308265003, 1222776.2404714571, 1145111.4034982554, 1085813.5291374389, 1037300.5017946934]\n",
      "[1354773.2308265003, 1222776.2404714571, 1145111.4034982554, 1085813.5291374389, 1037300.5017946934, 998358.947115998]\n",
      "[1354773.2308265003, 1222776.2404714571, 1145111.4034982554, 1085813.5291374389, 1037300.5017946934, 998358.947115998, 969682.7531147889]\n",
      "[1354773.2308265003, 1222776.2404714571, 1145111.4034982554, 1085813.5291374389, 1037300.5017946934, 998358.947115998, 969682.7531147889, 941188.78352361]\n"
     ]
    },
    {
     "data": {
      "text/plain": [
       "<Figure size 640x480 with 1 Axes>"
      ]
     },
     "metadata": {},
     "output_type": "display_data"
    },
    {
     "data": {
      "text/plain": [
       "<Figure size 640x480 with 1 Axes>"
      ]
     },
     "metadata": {},
     "output_type": "display_data"
    },
    {
     "name": "stdout",
     "output_type": "stream",
     "text": [
      "[ 0.08350176 -0.30281672]\n"
     ]
    },
    {
     "data": {
      "text/plain": [
       "<Figure size 640x480 with 1 Axes>"
      ]
     },
     "metadata": {},
     "output_type": "display_data"
    },
    {
     "name": "stdout",
     "output_type": "stream",
     "text": [
      "LR score is:  0.6186923845642616\n",
      "RF score is:  0.5875521007954696\n",
      "NB score is:  0.5997093495183516\n",
      "0.6210582140088933\n"
     ]
    },
    {
     "data": {
      "text/plain": [
       "<Figure size 640x480 with 1 Axes>"
      ]
     },
     "metadata": {},
     "output_type": "display_data"
    },
    {
     "name": "stdout",
     "output_type": "stream",
     "text": [
      "AUC score is:  0.6579038076888799\n"
     ]
    }
   ],
   "source": [
    "import pandas as pd\n",
    "import numpy as np\n",
    "import seaborn as sns\n",
    "import matplotlib.pyplot as plt\n",
    "from sklearn import preprocessing\n",
    "\n",
    "if __name__==\"__main__\":\n",
    "    #exploring data\n",
    "    #read data\n",
    "    data = pd.read_csv('diabetic_data1.csv')\n",
    "\n",
    "    print (\"data shape is: \",data.shape)\n",
    "    print (\"data head is: \",data.head())\n",
    "    print (\"data information is: \",data.info())\n",
    "    #look at the result variable\n",
    "    data.groupby('readmitted').size().plot(kind='bar',color='green')\n",
    "    plt.ylabel('number')\n",
    "    plt.show()\n",
    "    #revise the readmiited varibales\n",
    "    data['readmitted'] = pd.Series([0 if val == 'NO' else 1 for val in data['readmitted']])\n",
    "    #drop id information features\n",
    "    data.drop(['encounter_id', 'patient_nbr', 'payer_code'], axis=1, inplace=True)\n",
    "    #check features with a lot of NA\n",
    "    weight_na=data[data['weight'] == '?'].shape[0] * 1.0 / data.shape[0]\n",
    "    print ('weight feature NA rate is: ',weight_na)\n",
    "    medical_specaiality_na=data[data['medical_specialty'] == '?'].shape[0] * 1.0 / data.shape[0]\n",
    "    print ('medical_speciality NA rate is: ',medical_specaiality_na)\n",
    "    #drop these two features\n",
    "    data.drop(['weight', 'medical_specialty'], axis=1, inplace=True)\n",
    "    #check other features and remove related rows\n",
    "    print ('race NA is: ',data[data['race'] == '?'].shape[0] * 1.0 / data.shape[0])\n",
    "    print ('diag1 NA is: ',data[data['diag_1'] == '?'].shape[0] * 1.0 / data.shape[0])\n",
    "    print ('diag2 NA is: ',data[data['diag_2'] == '?'].shape[0] * 1.0 / data.shape[0])\n",
    "    print ('diag3 NA is: ',data[data['diag_3'] == '?'].shape[0] * 1.0 / data.shape[0])\n",
    "    print ('gender NA is: ',data[data['gender'] == 'Unknown/Invalid'].shape[0] * 1.0 / data.shape[0])\n",
    "    data = data[data['race'] != '?']\n",
    "    data = data[data['diag_1'] != '?']\n",
    "    data = data[data['diag_2'] != '?']\n",
    "    data = data[data['diag_3'] != '?']\n",
    "    data = data[data['gender'] != 'Unknown/Invalid']\n",
    "    #regroup age feature\n",
    "    data.groupby('age').size().plot(kind='bar',color='red')\n",
    "    plt.ylabel('number')\n",
    "    plt.show()\n",
    "    #the data of age is unbalanced\n",
    "    data['age'] = pd.Series(['[0-40)' if val in ['[0-10)', '[10-20)', '[20-30)', '[30-40)'] else val\n",
    "                             for val in data['age']], index=data.index)\n",
    "    data['age'] = pd.Series(['[80-100)' if val in ['[80-90)', '[90-100)'] else val\n",
    "                             for val in data['age']], index=data.index)\n",
    "    data.groupby('age').size().plot(kind='bar',color='red')\n",
    "    plt.ylabel('number')\n",
    "    plt.show()\n",
    "    #deal with discharge_disposition_id,admission_source_id,\n",
    "    data['discharge_disposition_id'] = pd.Series(['Home' if val == 1 else 'Others' for val in data['discharge_disposition_id']], index=data.index)\n",
    "    data['admission_source_id'] = pd.Series(['Emergency Room' if val == 7 else 'Referral' if val == 1 else 'Others' for val in data['admission_source_id']], index=data.index)\n",
    "    data['admission_type_id'] = pd.Series(['Emergency' if val == 1 else 'Urgent' if val==2 else 'Others'for val in data['admission_type_id']], index=data.index)\n",
    "    #clean some featues which have unbalanced distribution\n",
    "    features=['metformin', 'repaglinide', 'nateglinide', 'chlorpropamide', 'glimepiride',\n",
    "               'acetohexamide', 'glipizide', 'glyburide', 'tolbutamide', 'pioglitazone',\n",
    "               'rosiglitazone', 'acarbose', 'miglitol', 'troglitazone', 'tolazamide', 'examide',\n",
    "               'citoglipton', 'glyburide-metformin', 'glipizide-metformin', 'glimepiride-pioglitazone',\n",
    "               'metformin-rosiglitazone', 'metformin-pioglitazone','insulin']\n",
    "    for i in range(23):\n",
    "        data.groupby(features[i]).size().plot(kind='bar')\n",
    "        #plt.show()\n",
    "    #except insulin,others are really unbalanced\n",
    "    data.drop(['metformin', 'repaglinide', 'nateglinide', 'chlorpropamide', 'glimepiride',\n",
    "               'acetohexamide', 'glipizide', 'glyburide', 'tolbutamide', 'pioglitazone',\n",
    "               'rosiglitazone', 'acarbose', 'miglitol', 'troglitazone', 'tolazamide', 'examide',\n",
    "               'citoglipton', 'glyburide-metformin', 'glipizide-metformin', 'glimepiride-pioglitazone',\n",
    "               'metformin-rosiglitazone', 'metformin-pioglitazone'], axis=1, inplace=True)\n",
    "    data['diag_1'] = pd.Series([1 if val.startswith('250') else 0 for val in data['diag_1']], index=data.index)\n",
    "    data['diag_2'] = pd.Series([1 if val.startswith('250') else 0 for val in data['diag_2']], index=data.index)\n",
    "    data['diag_3'] = pd.Series([1 if val.startswith('250') else 0 for val in data['diag_3']], index=data.index)\n",
    "    #one-hot encoding for categorical features\n",
    "    df_age = pd.get_dummies(data['age'])\n",
    "    df_race = pd.get_dummies(data['race'])\n",
    "    df_gender = pd.get_dummies(data['gender'])\n",
    "    df_max_glu_serum = pd.get_dummies(data['max_glu_serum'])\n",
    "    df_A1Cresult = pd.get_dummies(data['A1Cresult'])\n",
    "    df_insulin = pd.get_dummies(data['insulin'])\n",
    "    df_change = pd.get_dummies(data['change'])\n",
    "    df_diabetesMed = pd.get_dummies(data['diabetesMed'])\n",
    "    df_discharge_disposition_id = pd.get_dummies(data['discharge_disposition_id'])\n",
    "    df_admission_source_id = pd.get_dummies(data['admission_source_id'])\n",
    "    df_admission_type_id = pd.get_dummies(data['admission_type_id'])\n",
    "\n",
    "    data = pd.concat([data, df_age, df_race, df_gender, df_max_glu_serum, df_A1Cresult,\n",
    "                      df_insulin, df_change, df_diabetesMed, df_discharge_disposition_id,\n",
    "                      df_admission_source_id, df_admission_type_id], axis=1)\n",
    "    data.drop(['age', 'race', 'gender', 'max_glu_serum', 'A1Cresult', 'insulin', 'change',\n",
    "                      'diabetesMed', 'discharge_disposition_id', 'admission_source_id',\n",
    "                      'admission_type_id'], axis=1, inplace=True)\n",
    "    #deal with extreme values,to do root transformation and feature scaling\n",
    "    data['number_outpatient'] = data['number_outpatient'].apply(lambda x: np.sqrt(x + 0.5))\n",
    "    data['number_emergency'] = data['number_emergency'].apply(lambda x: np.sqrt(x + 0.5))\n",
    "    data['number_inpatient'] = data['number_inpatient'].apply(lambda x: np.sqrt(x + 0.5))\n",
    "    feature_scale_cols = ['time_in_hospital', 'num_lab_procedures', 'num_procedures', 'num_medications',\n",
    "                          'number_diagnoses', 'number_inpatient', 'number_emergency', 'number_outpatient']\n",
    "    scaler = preprocessing.StandardScaler().fit(data[feature_scale_cols])\n",
    "    data_scaler = scaler.transform(data[feature_scale_cols])\n",
    "    data_scaler_df = pd.DataFrame(data=data_scaler, columns=feature_scale_cols, index=data.index)\n",
    "    data.drop(feature_scale_cols, axis=1, inplace=True)\n",
    "    data = pd.concat([data, data_scaler_df], axis=1)\n",
    "    X = data.drop(['readmitted'], axis=1)\n",
    "    y = data['readmitted']\n",
    "    from sklearn.cross_validation import train_test_split\n",
    "    X_cv, X_test, y_cv, y_test = train_test_split(X, y, test_size=0.25)\n",
    "    from sklearn.ensemble import RandomForestClassifier\n",
    "    forest = RandomForestClassifier()\n",
    "    forest.fit(X_cv, y_cv)\n",
    "    importances = forest.feature_importances_\n",
    "    feature_importance = 100.0 * (importances / importances.max())\n",
    "    sorted_idx = np.argsort(feature_importance)\n",
    "    feature_names = list(X_cv.columns.values)\n",
    "    feature_names_sort = [feature_names[indice] for indice in sorted_idx]\n",
    "    pos = np.arange(sorted_idx.shape[0]) + .5\n",
    "    print ('Top 10 important features are: ')\n",
    "    for feature in feature_names_sort[::-1][:10]:\n",
    "        print (feature)\n",
    "    plt.figure(figsize=(12, 10))\n",
    "    plt.barh(pos, feature_importance[sorted_idx], align='center')\n",
    "    plt.yticks(pos, feature_names_sort)\n",
    "    plt.title('Relative Feature Importance', fontsize=20)\n",
    "    plt.show()\n",
    "    cleansed_data = X_cv[['num_lab_procedures', 'num_medications', 'time_in_hospital', 'num_procedures', 'number_inpatient',\n",
    "               'number_diagnoses','number_outpatient','number_emergency','diag_3','Female']]\n",
    "\n",
    "    #clustring\n",
    "    inertias=[]\n",
    "    from sklearn.cluster import KMeans\n",
    "\n",
    "    for N in range(1,9):\n",
    "            km = KMeans(n_clusters=N)\n",
    "            km.fit(data.values)\n",
    "            inertias.append(km.inertia_)\n",
    "            print (inertias)\n",
    "    n=[i for i in range(1,9)]\n",
    "    plt.bar(n, inertias)\n",
    "    plt.title(\"cluster elbow\")\n",
    "    plt.ylabel(\"KMeans inertia\")\n",
    "    plt.xlabel(\"n_clusters\")\n",
    "    plt.show()\n",
    "    # According to elbow clustering,n should be 2\n",
    "    from sklearn.decomposition import PCA\n",
    "    from sklearn.preprocessing import Normalizer\n",
    "    # using PCA to reduce dimensions\n",
    "    reducer = PCA(n_components=2)\n",
    "    X = data.values.astype(np.float32)\n",
    "    norm = Normalizer()\n",
    "    Xnorm = norm.fit_transform(X)\n",
    "    XX =reducer.fit_transform(Xnorm)\n",
    "    plt.figure()\n",
    "    plt.scatter(XX[:, 0], XX[:, 1])\n",
    "    plt.show()\n",
    "    print (XX[0])\n",
    "    # using k-means to do clustering,k=2\n",
    "    km=KMeans(n_clusters=2).fit(XX)\n",
    "    colors=['r','g']\n",
    "    ax1=np.where(km.labels_==1)\n",
    "    ax2=np.where(km.labels_==0)\n",
    "    result1=XX[ax1]\n",
    "    result2=XX[ax2]\n",
    "    plt.figure()\n",
    "    plt.scatter(result1[:,0], result1[:,1], color=\"r\")\n",
    "    plt.scatter(result2[:, 0], result2[:, 1], color=\"g\")\n",
    "    plt.show()\n",
    "\n",
    "    ##classification\n",
    "    from sklearn.cross_validation import cross_val_score\n",
    "    from sklearn.linear_model import LogisticRegression\n",
    "    from sklearn.ensemble import RandomForestClassifier\n",
    "    from sklearn.naive_bayes import GaussianNB\n",
    "    classifier_LR = LogisticRegression()\n",
    "    classifier_RF = RandomForestClassifier()\n",
    "    classifier_NB = GaussianNB()\n",
    "    NB_score = cross_val_score(classifier_NB, X_cv, y_cv, cv=10, scoring='accuracy').mean()\n",
    "    RF_score = cross_val_score(classifier_RF, X_cv, y_cv, cv=10, scoring='accuracy').mean()\n",
    "    LR_score = cross_val_score(classifier_LR, X_cv, y_cv, cv=10, scoring='accuracy').mean()\n",
    "    print (\"LR score is: \",LR_score)\n",
    "    print (\"RF score is: \",RF_score)\n",
    "    print (\"NB score is: \",NB_score)\n",
    "    #because lr gets the highest score ,we select the lr model\n",
    "    ##evaluation\n",
    "    logreg=LogisticRegression(C=0.1, class_weight=None, dual=False,\n",
    "              fit_intercept=True, intercept_scaling=1, max_iter=100,\n",
    "              multi_class='ovr', n_jobs=1, penalty='l2', random_state=None,\n",
    "              solver='liblinear', tol=0.0001, verbose=0, warm_start=False)\n",
    "    logreg.fit(X_cv, y_cv)\n",
    "    from sklearn import metrics\n",
    "    y_pred_class = logreg.predict(X_test)\n",
    "    print (metrics.accuracy_score(y_test, y_pred_class))\n",
    "    y_pred_prob = logreg.predict_proba(X_test)[:, 1]\n",
    "    fpr, tpr, thresholds = metrics.roc_curve(y_test, y_pred_prob)\n",
    "    plt.plot(fpr, tpr)\n",
    "    plt.xlim([0.0, 1.0])\n",
    "    plt.ylim([0.0, 1.0])\n",
    "    plt.title('ROC curve')\n",
    "    plt.xlabel('False Positive')\n",
    "    plt.ylabel('True Positive')\n",
    "    plt.grid(True)\n",
    "    plt.show()\n",
    "    print (\"AUC score is: \",metrics.roc_auc_score(y_test, y_pred_prob))"
   ]
  },
  {
   "cell_type": "code",
   "execution_count": null,
   "metadata": {},
   "outputs": [],
   "source": []
  }
 ],
 "metadata": {
  "kernelspec": {
   "display_name": "Python 3",
   "language": "python",
   "name": "python3"
  },
  "language_info": {
   "codemirror_mode": {
    "name": "ipython",
    "version": 3
   },
   "file_extension": ".py",
   "mimetype": "text/x-python",
   "name": "python",
   "nbconvert_exporter": "python",
   "pygments_lexer": "ipython3",
   "version": "3.6.5"
  }
 },
 "nbformat": 4,
 "nbformat_minor": 2
}
